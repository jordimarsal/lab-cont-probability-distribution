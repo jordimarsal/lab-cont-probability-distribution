{
 "cells": [
  {
   "cell_type": "markdown",
   "metadata": {},
   "source": [
    "# Before your start:\n",
    "\n",
    "    Read the README.md file\n",
    "    Comment as much as you can and use the resources (README.md file)\n",
    "    Happy learning!"
   ]
  },
  {
   "cell_type": "markdown",
   "metadata": {},
   "source": [
    "In this exercise, we  will generate random numbers from the continuous disributions we learned in the lesson. There are two ways to generate random numbers:\n",
    "\n",
    "1. Using the numpy library \n",
    "1. using the Scipy library \n",
    "\n",
    "Use either or both of the lbraries in this exercise."
   ]
  },
  {
   "cell_type": "code",
   "execution_count": 1,
   "metadata": {
    "ExecuteTime": {
     "end_time": "2019-09-01T09:58:39.381206Z",
     "start_time": "2019-09-01T09:58:23.694954Z"
    }
   },
   "outputs": [
    {
     "name": "stdout",
     "output_type": "stream",
     "text": [
      "16.8 ns ± 0.681 ns per loop (mean ± std. dev. of 7 runs, 100000000 loops each)\n"
     ]
    }
   ],
   "source": [
    "import pandas as pd\n",
    "import numpy as np\n",
    "\n",
    "pd.set_option('display.max_columns', None)\n",
    "pd.set_option('display.max_rows', None)\n",
    "from IPython.core.interactiveshell import InteractiveShell\n",
    "InteractiveShell.ast_node_interactivity = 'all'\n",
    "\n",
    "import matplotlib.pyplot as plt\n",
    "import seaborn as sns\n",
    "%matplotlib inline\n",
    "%timeit ,  line_profiler, memory_profiler"
   ]
  },
  {
   "cell_type": "markdown",
   "metadata": {},
   "source": [
    "## Uniform Distribution\n",
    "\n",
    "To generate uniform random numbers between any two given values using scipy, we can either use the following code or the code that we have\n",
    "discussed in class:"
   ]
  },
  {
   "cell_type": "code",
   "execution_count": 2,
   "metadata": {
    "ExecuteTime": {
     "end_time": "2019-09-01T09:58:39.403630Z",
     "start_time": "2019-09-01T09:58:39.393476Z"
    }
   },
   "outputs": [
    {
     "name": "stdout",
     "output_type": "stream",
     "text": [
      "[2.98218365 2.48443914 2.63714726 2.76367749 2.10836461 2.47974361\n",
      " 2.77749315 2.80986364 2.36530114 2.35365929]\n"
     ]
    }
   ],
   "source": [
    "from scipy.stats import uniform\n",
    "x = uniform.rvs(size=10)\n",
    "a = 2\n",
    "b = 3\n",
    "randoms  = a + (b-a)*x\n",
    "print(randoms)"
   ]
  },
  {
   "cell_type": "markdown",
   "metadata": {},
   "source": [
    "**Your task:**\n",
    "\n",
    "1. Based on the code above, write a function that generates uniformly distributed random numbers. There are several requirements for your function:\n",
    "    * It should accept 3 parameters: \n",
    "        * `bottom` - the lower boundary of the generated numbers\n",
    "        * `ceiling` - the upper boundary of the generated numbers\n",
    "        * `count` - how many numbers to generate\n",
    "    * It should return an array of uniformly distributed random numbers\n",
    "\n",
    "1. Call your function with 2 sets of params below:\n",
    "    * bottom=10, ceiling=15, count=100\n",
    "    * bottom=10, ceiling=60, count=1,000\n",
    "\n",
    "1. Plot the uniform distributions generated above using histograms, where x axis is the value and y axis is the count. Let the histogram's number of bins be 10."
   ]
  },
  {
   "cell_type": "code",
   "execution_count": 3,
   "metadata": {
    "ExecuteTime": {
     "end_time": "2019-09-01T09:58:44.319843Z",
     "start_time": "2019-09-01T09:58:44.314440Z"
    }
   },
   "outputs": [],
   "source": [
    "# your code here\n",
    "\n",
    "def rnd_u(bottom, ceiling, count):\n",
    "    x = uniform.rvs(size=count)\n",
    "    randoms  = bottom + (ceiling - bottom)*x\n",
    "    return randoms\n",
    "    \n",
    "prim = rnd_u(10,15,100)\n",
    "sec = rnd_u(10,60,1000)"
   ]
  },
  {
   "cell_type": "code",
   "execution_count": 4,
   "metadata": {
    "ExecuteTime": {
     "end_time": "2019-09-01T09:58:45.906652Z",
     "start_time": "2019-09-01T09:58:45.567655Z"
    }
   },
   "outputs": [
    {
     "data": {
      "text/plain": [
       "(array([ 6.,  9., 16.,  8., 10., 11., 11., 11.,  6., 12.]),\n",
       " array([10.00589001, 10.49662178, 10.98735355, 11.47808532, 11.96881709,\n",
       "        12.45954886, 12.95028063, 13.4410124 , 13.93174417, 14.42247594,\n",
       "        14.91320771]),\n",
       " <a list of 10 Patch objects>)"
      ]
     },
     "execution_count": 4,
     "metadata": {},
     "output_type": "execute_result"
    },
    {
     "data": {
      "image/png": "[encoded data removed]",
      "text/plain": [
       "<Figure size 432x288 with 1 Axes>"
      ]
     },
     "metadata": {
      "needs_background": "light"
     },
     "output_type": "display_data"
    }
   ],
   "source": [
    "plt.hist(prim,bins = 10)"
   ]
  },
  {
   "cell_type": "code",
   "execution_count": 5,
   "metadata": {
    "ExecuteTime": {
     "end_time": "2019-09-01T09:58:48.366303Z",
     "start_time": "2019-09-01T09:58:48.128832Z"
    }
   },
   "outputs": [
    {
     "data": {
      "text/plain": [
       "(array([ 94.,  96., 101., 108., 106.,  99.,  92.,  96., 120.,  88.]),\n",
       " array([10.1760498 , 15.1582414 , 20.140433  , 25.12262461, 30.10481621,\n",
       "        35.08700781, 40.06919942, 45.05139102, 50.03358262, 55.01577423,\n",
       "        59.99796583]),\n",
       " <a list of 10 Patch objects>)"
      ]
     },
     "execution_count": 5,
     "metadata": {},
     "output_type": "execute_result"
    },
    {
     "data": {
      "image/png": "[encoded data removed]",
      "text/plain": [
       "<Figure size 432x288 with 1 Axes>"
      ]
     },
     "metadata": {
      "needs_background": "light"
     },
     "output_type": "display_data"
    }
   ],
   "source": [
    "plt.hist(sec,bins = 10)"
   ]
  },
  {
   "cell_type": "markdown",
   "metadata": {},
   "source": [
    "How are the two distributions different?"
   ]
  },
  {
   "cell_type": "code",
   "execution_count": 14,
   "metadata": {
    "ExecuteTime": {
     "end_time": "2019-08-27T18:49:39.134132Z",
     "start_time": "2019-08-27T18:49:39.131002Z"
    }
   },
   "outputs": [],
   "source": [
    "# X-axis depending on ceiling, number of obs in each bin depending on n\n"
   ]
  },
  {
   "cell_type": "markdown",
   "metadata": {},
   "source": [
    "## Normal Distribution\n",
    "\n",
    "1. In the same way in the Uniform Distribution challenge, write a function that generates normally distributed random numbers.\n",
    "1. Generate 1,000 normally distributed numbers with the average of 10 and standard deviation of 1\n",
    "1. Generate 1,000 normally distributed numbers with the average of 10 and standard deviation of 50\n",
    "2. Plot the distributions of the data generated."
   ]
  },
  {
   "cell_type": "code",
   "execution_count": 23,
   "metadata": {
    "ExecuteTime": {
     "end_time": "2019-08-27T18:53:53.170694Z",
     "start_time": "2019-08-27T18:53:53.164469Z"
    }
   },
   "outputs": [],
   "source": [
    "from scipy.stats import norm\n",
    "\n",
    "def rnd_norm(mu, sigma, count):\n",
    "    x = norm.rvs(loc=mu, scale=sigma, size=count)\n",
    "    return x\n",
    "    \n",
    "prim = rnd_norm(10,1,1000)\n",
    "sec = rnd_norm(10,50,1000)"
   ]
  },
  {
   "cell_type": "code",
   "execution_count": 24,
   "metadata": {
    "ExecuteTime": {
     "end_time": "2019-08-27T18:53:55.747335Z",
     "start_time": "2019-08-27T18:53:55.423251Z"
    }
   },
   "outputs": [
    {
     "data": {
      "text/plain": [
       "(array([ 1.,  0.,  0.,  1.,  2.,  3.,  4.,  0.,  9.,  3.,  7.,  5.,  7.,\n",
       "        11., 12., 21., 28., 21., 26., 30., 37., 54., 42., 37., 44., 55.,\n",
       "        36., 65., 41., 45., 34., 37., 37., 34., 37., 28., 22., 20., 20.,\n",
       "        18., 13.,  6., 10.,  9.,  7.,  4.,  7.,  5.,  3.,  2.]),\n",
       " array([ 6.82335479,  6.93896892,  7.05458306,  7.17019719,  7.28581133,\n",
       "         7.40142546,  7.5170396 ,  7.63265373,  7.74826787,  7.863882  ,\n",
       "         7.97949614,  8.09511028,  8.21072441,  8.32633855,  8.44195268,\n",
       "         8.55756682,  8.67318095,  8.78879509,  8.90440922,  9.02002336,\n",
       "         9.13563749,  9.25125163,  9.36686576,  9.4824799 ,  9.59809404,\n",
       "         9.71370817,  9.82932231,  9.94493644, 10.06055058, 10.17616471,\n",
       "        10.29177885, 10.40739298, 10.52300712, 10.63862125, 10.75423539,\n",
       "        10.86984952, 10.98546366, 11.10107779, 11.21669193, 11.33230607,\n",
       "        11.4479202 , 11.56353434, 11.67914847, 11.79476261, 11.91037674,\n",
       "        12.02599088, 12.14160501, 12.25721915, 12.37283328, 12.48844742,\n",
       "        12.60406155]),\n",
       " <a list of 50 Patch objects>)"
      ]
     },
     "execution_count": 24,
     "metadata": {},
     "output_type": "execute_result"
    },
    {
     "data": {
      "image/png": "[encoded data removed]",
      "text/plain": [
       "<Figure size 432x288 with 1 Axes>"
      ]
     },
     "metadata": {
      "needs_background": "light"
     },
     "output_type": "display_data"
    }
   ],
   "source": [
    "plt.hist(prim,bins = 50)"
   ]
  },
  {
   "cell_type": "code",
   "execution_count": 25,
   "metadata": {
    "ExecuteTime": {
     "end_time": "2019-08-27T18:54:29.197056Z",
     "start_time": "2019-08-27T18:54:28.844548Z"
    }
   },
   "outputs": [
    {
     "data": {
      "text/plain": [
       "(array([ 2.,  0.,  1.,  0.,  0.,  2.,  1.,  2.,  4.,  5.,  8., 13., 15.,\n",
       "        16., 16., 18., 21., 15., 29., 32., 35., 38., 46., 46., 54., 45.,\n",
       "        47., 48., 47., 55., 44., 35., 42., 31., 45., 24., 24., 21., 14.,\n",
       "        16.,  9.,  5.,  9.,  5.,  6.,  1.,  2.,  1.,  2.,  3.]),\n",
       " array([-154.99433675, -148.6822475 , -142.37015825, -136.058069  ,\n",
       "        -129.74597975, -123.43389049, -117.12180124, -110.80971199,\n",
       "        -104.49762274,  -98.18553349,  -91.87344423,  -85.56135498,\n",
       "         -79.24926573,  -72.93717648,  -66.62508723,  -60.31299797,\n",
       "         -54.00090872,  -47.68881947,  -41.37673022,  -35.06464097,\n",
       "         -28.75255171,  -22.44046246,  -16.12837321,   -9.81628396,\n",
       "          -3.50419471,    2.80789455,    9.1199838 ,   15.43207305,\n",
       "          21.7441623 ,   28.05625155,   34.36834081,   40.68043006,\n",
       "          46.99251931,   53.30460856,   59.61669781,   65.92878707,\n",
       "          72.24087632,   78.55296557,   84.86505482,   91.17714407,\n",
       "          97.48923333,  103.80132258,  110.11341183,  116.42550108,\n",
       "         122.73759033,  129.04967959,  135.36176884,  141.67385809,\n",
       "         147.98594734,  154.29803659,  160.61012585]),\n",
       " <a list of 50 Patch objects>)"
      ]
     },
     "execution_count": 25,
     "metadata": {},
     "output_type": "execute_result"
    },
    {
     "data": {
      "image/png": "[encoded data removed]",
      "text/plain": [
       "<Figure size 432x288 with 1 Axes>"
      ]
     },
     "metadata": {
      "needs_background": "light"
     },
     "output_type": "display_data"
    }
   ],
   "source": [
    "plt.hist(sec,bins = 50)"
   ]
  },
  {
   "cell_type": "markdown",
   "metadata": {},
   "source": [
    "How are the two distributions different?"
   ]
  },
  {
   "cell_type": "code",
   "execution_count": 4,
   "metadata": {
    "ExecuteTime": {
     "end_time": "2019-08-02T06:07:54.816439Z",
     "start_time": "2019-08-02T06:07:54.814409Z"
    }
   },
   "outputs": [],
   "source": [
    "# different distrubiton around the mean (x-axis)"
   ]
  },
  {
   "cell_type": "markdown",
   "metadata": {},
   "source": [
    "## Normal Distribution of Real Data\n",
    "\n",
    "In this challenge we are going to take a look the real data. We will use vehicles.csv file for this exercise"
   ]
  },
  {
   "cell_type": "markdown",
   "metadata": {},
   "source": [
    "First import vehicles.csv.\n",
    "Then plot the histograms for the following variables:\n",
    "\n",
    "1. Fuel Barrels/Year"
   ]
  },
  {
   "cell_type": "code",
   "execution_count": 28,
   "metadata": {
    "ExecuteTime": {
     "end_time": "2019-08-27T19:07:38.109590Z",
     "start_time": "2019-08-27T19:07:37.646436Z"
    }
   },
   "outputs": [
    {
     "data": {
      "text/html": [
       "<div>\n",
       "<style scoped>\n",
       "    .dataframe tbody tr th:only-of-type {\n",
       "        vertical-align: middle;\n",
       "    }\n",
       "\n",
       "    .dataframe tbody tr th {\n",
       "        vertical-align: top;\n",
       "    }\n",
       "\n",
       "    .dataframe thead th {\n",
       "        text-align: right;\n",
       "    }\n",
       "</style>\n",
       "<table border=\"1\" class=\"dataframe\">\n",
       "  <thead>\n",
       "    <tr style=\"text-align: right;\">\n",
       "      <th></th>\n",
       "      <th>Make</th>\n",
       "      <th>Model</th>\n",
       "      <th>Year</th>\n",
       "      <th>Engine Displacement</th>\n",
       "      <th>Cylinders</th>\n",
       "      <th>Transmission</th>\n",
       "      <th>Drivetrain</th>\n",
       "      <th>Vehicle Class</th>\n",
       "      <th>Fuel Type</th>\n",
       "      <th>Fuel Barrels/Year</th>\n",
       "      <th>City MPG</th>\n",
       "      <th>Highway MPG</th>\n",
       "      <th>Combined MPG</th>\n",
       "      <th>CO2 Emission Grams/Mile</th>\n",
       "      <th>Fuel Cost/Year</th>\n",
       "    </tr>\n",
       "  </thead>\n",
       "  <tbody>\n",
       "    <tr>\n",
       "      <th>35949</th>\n",
       "      <td>smart</td>\n",
       "      <td>fortwo coupe</td>\n",
       "      <td>2015</td>\n",
       "      <td>1.0</td>\n",
       "      <td>3.0</td>\n",
       "      <td>Auto(AM5)</td>\n",
       "      <td>Rear-Wheel Drive</td>\n",
       "      <td>Two Seaters</td>\n",
       "      <td>Premium</td>\n",
       "      <td>9.155833</td>\n",
       "      <td>34</td>\n",
       "      <td>38</td>\n",
       "      <td>36</td>\n",
       "      <td>244.0</td>\n",
       "      <td>1100</td>\n",
       "    </tr>\n",
       "    <tr>\n",
       "      <th>35950</th>\n",
       "      <td>smart</td>\n",
       "      <td>fortwo coupe</td>\n",
       "      <td>2016</td>\n",
       "      <td>0.9</td>\n",
       "      <td>3.0</td>\n",
       "      <td>Auto(AM6)</td>\n",
       "      <td>Rear-Wheel Drive</td>\n",
       "      <td>Two Seaters</td>\n",
       "      <td>Premium</td>\n",
       "      <td>9.155833</td>\n",
       "      <td>34</td>\n",
       "      <td>39</td>\n",
       "      <td>36</td>\n",
       "      <td>246.0</td>\n",
       "      <td>1100</td>\n",
       "    </tr>\n",
       "    <tr>\n",
       "      <th>35951</th>\n",
       "      <td>smart</td>\n",
       "      <td>fortwo coupe</td>\n",
       "      <td>2016</td>\n",
       "      <td>0.9</td>\n",
       "      <td>3.0</td>\n",
       "      <td>Manual 5-spd</td>\n",
       "      <td>Rear-Wheel Drive</td>\n",
       "      <td>Two Seaters</td>\n",
       "      <td>Premium</td>\n",
       "      <td>9.417429</td>\n",
       "      <td>32</td>\n",
       "      <td>39</td>\n",
       "      <td>35</td>\n",
       "      <td>255.0</td>\n",
       "      <td>1150</td>\n",
       "    </tr>\n",
       "  </tbody>\n",
       "</table>\n",
       "</div>"
      ],
      "text/plain": [
       "        Make         Model  Year  Engine Displacement  Cylinders  \\\n",
       "35949  smart  fortwo coupe  2015                  1.0        3.0   \n",
       "35950  smart  fortwo coupe  2016                  0.9        3.0   \n",
       "35951  smart  fortwo coupe  2016                  0.9        3.0   \n",
       "\n",
       "       Transmission        Drivetrain Vehicle Class Fuel Type  \\\n",
       "35949     Auto(AM5)  Rear-Wheel Drive   Two Seaters   Premium   \n",
       "35950     Auto(AM6)  Rear-Wheel Drive   Two Seaters   Premium   \n",
       "35951  Manual 5-spd  Rear-Wheel Drive   Two Seaters   Premium   \n",
       "\n",
       "       Fuel Barrels/Year  City MPG  Highway MPG  Combined MPG  \\\n",
       "35949           9.155833        34           38            36   \n",
       "35950           9.155833        34           39            36   \n",
       "35951           9.417429        32           39            35   \n",
       "\n",
       "       CO2 Emission Grams/Mile  Fuel Cost/Year  \n",
       "35949                    244.0            1100  \n",
       "35950                    246.0            1100  \n",
       "35951                    255.0            1150  "
      ]
     },
     "execution_count": 28,
     "metadata": {},
     "output_type": "execute_result"
    },
    {
     "data": {
      "text/plain": [
       "<matplotlib.axes._subplots.AxesSubplot at 0x12c4576d8>"
      ]
     },
     "execution_count": 28,
     "metadata": {},
     "output_type": "execute_result"
    },
    {
     "data": {
      "image/png": "[encoded data removed]",
      "text/plain": [
       "<Figure size 432x288 with 1 Axes>"
      ]
     },
     "metadata": {
      "needs_background": "light"
     },
     "output_type": "display_data"
    }
   ],
   "source": [
    "# your code here\n",
    "df = pd.read_csv('vehicles.csv')\n",
    "df.tail(3)\n",
    "df['Fuel Barrels/Year'].hist()"
   ]
  },
  {
   "cell_type": "markdown",
   "metadata": {},
   "source": [
    "2. CO2 Emission Grams/Mile "
   ]
  },
  {
   "cell_type": "code",
   "execution_count": 30,
   "metadata": {
    "ExecuteTime": {
     "end_time": "2019-08-27T19:08:11.452766Z",
     "start_time": "2019-08-27T19:08:11.167488Z"
    }
   },
   "outputs": [
    {
     "data": {
      "text/plain": [
       "<matplotlib.axes._subplots.AxesSubplot at 0x12c9a7a90>"
      ]
     },
     "execution_count": 30,
     "metadata": {},
     "output_type": "execute_result"
    },
    {
     "data": {
      "image/png": "[encoded data removed]",
      "text/plain": [
       "<Figure size 432x288 with 1 Axes>"
      ]
     },
     "metadata": {
      "needs_background": "light"
     },
     "output_type": "display_data"
    }
   ],
   "source": [
    "df['CO2 Emission Grams/Mile'].hist()"
   ]
  },
  {
   "cell_type": "markdown",
   "metadata": {},
   "source": [
    "3. Combined MPG"
   ]
  },
  {
   "cell_type": "code",
   "execution_count": 29,
   "metadata": {
    "ExecuteTime": {
     "end_time": "2019-08-27T19:08:05.065465Z",
     "start_time": "2019-08-27T19:08:04.761616Z"
    }
   },
   "outputs": [
    {
     "data": {
      "text/plain": [
       "<matplotlib.axes._subplots.AxesSubplot at 0x12c6f5fd0>"
      ]
     },
     "execution_count": 29,
     "metadata": {},
     "output_type": "execute_result"
    },
    {
     "data": {
      "image/png": "[encoded data removed]",
      "text/plain": [
       "<Figure size 432x288 with 1 Axes>"
      ]
     },
     "metadata": {
      "needs_background": "light"
     },
     "output_type": "display_data"
    }
   ],
   "source": [
    "df['Combined MPG'].hist()"
   ]
  },
  {
   "cell_type": "markdown",
   "metadata": {},
   "source": [
    "Which one(s) of the variables are nearly normally distributed? How do you know?"
   ]
  },
  {
   "cell_type": "code",
   "execution_count": 6,
   "metadata": {
    "ExecuteTime": {
     "end_time": "2019-08-02T06:07:54.886563Z",
     "start_time": "2019-08-02T06:07:54.883451Z"
    }
   },
   "outputs": [],
   "source": [
    "# barrels & emission relatively normal, MPG left skew"
   ]
  },
  {
   "cell_type": "markdown",
   "metadata": {},
   "source": [
    "## Exponential Distribution"
   ]
  },
  {
   "cell_type": "markdown",
   "metadata": {},
   "source": [
    "1. Using `numpy.random.exponential`, create a function that returns a list of numbers exponentially distributed with the mean of 10. \n",
    "\n",
    "1. Use the function to generate two number sequences with the size of 1 and 100.\n",
    "\n",
    "1. Plot the distributions as histograms with the nubmer of bins as 100."
   ]
  },
  {
   "cell_type": "code",
   "execution_count": 34,
   "metadata": {
    "ExecuteTime": {
     "end_time": "2019-08-27T19:14:38.510494Z",
     "start_time": "2019-08-27T19:14:38.504034Z"
    }
   },
   "outputs": [],
   "source": [
    "# your code here\n",
    "\n",
    "from scipy.stats import norm\n",
    "\n",
    "def rnd_exp(mu, count):\n",
    "    x = np.random.exponential(1/mu, count)\n",
    "    return x\n",
    "    \n",
    "prim = rnd_exp(10,1)\n",
    "sec = rnd_exp(10,100)"
   ]
  },
  {
   "cell_type": "code",
   "execution_count": 35,
   "metadata": {
    "ExecuteTime": {
     "end_time": "2019-08-27T19:14:47.097433Z",
     "start_time": "2019-08-27T19:14:46.695810Z"
    }
   },
   "outputs": [
    {
     "data": {
      "text/plain": [
       "(array([0., 0., 0., 0., 0., 0., 0., 0., 0., 0., 0., 0., 0., 0., 0., 0., 0.,\n",
       "        0., 0., 0., 0., 0., 0., 0., 0., 0., 0., 0., 0., 0., 0., 0., 0., 0.,\n",
       "        0., 0., 0., 0., 0., 0., 0., 0., 0., 0., 0., 0., 0., 0., 0., 0., 1.,\n",
       "        0., 0., 0., 0., 0., 0., 0., 0., 0., 0., 0., 0., 0., 0., 0., 0., 0.,\n",
       "        0., 0., 0., 0., 0., 0., 0., 0., 0., 0., 0., 0., 0., 0., 0., 0., 0.,\n",
       "        0., 0., 0., 0., 0., 0., 0., 0., 0., 0., 0., 0., 0., 0., 0.]),\n",
       " array([-0.41533744, -0.40533744, -0.39533744, -0.38533744, -0.37533744,\n",
       "        -0.36533744, -0.35533744, -0.34533744, -0.33533744, -0.32533744,\n",
       "        -0.31533744, -0.30533744, -0.29533744, -0.28533744, -0.27533744,\n",
       "        -0.26533744, -0.25533744, -0.24533744, -0.23533744, -0.22533744,\n",
       "        -0.21533744, -0.20533744, -0.19533744, -0.18533744, -0.17533744,\n",
       "        -0.16533744, -0.15533744, -0.14533744, -0.13533744, -0.12533744,\n",
       "        -0.11533744, -0.10533744, -0.09533744, -0.08533744, -0.07533744,\n",
       "        -0.06533744, -0.05533744, -0.04533744, -0.03533744, -0.02533744,\n",
       "        -0.01533744, -0.00533744,  0.00466256,  0.01466256,  0.02466256,\n",
       "         0.03466256,  0.04466256,  0.05466256,  0.06466256,  0.07466256,\n",
       "         0.08466256,  0.09466256,  0.10466256,  0.11466256,  0.12466256,\n",
       "         0.13466256,  0.14466256,  0.15466256,  0.16466256,  0.17466256,\n",
       "         0.18466256,  0.19466256,  0.20466256,  0.21466256,  0.22466256,\n",
       "         0.23466256,  0.24466256,  0.25466256,  0.26466256,  0.27466256,\n",
       "         0.28466256,  0.29466256,  0.30466256,  0.31466256,  0.32466256,\n",
       "         0.33466256,  0.34466256,  0.35466256,  0.36466256,  0.37466256,\n",
       "         0.38466256,  0.39466256,  0.40466256,  0.41466256,  0.42466256,\n",
       "         0.43466256,  0.44466256,  0.45466256,  0.46466256,  0.47466256,\n",
       "         0.48466256,  0.49466256,  0.50466256,  0.51466256,  0.52466256,\n",
       "         0.53466256,  0.54466256,  0.55466256,  0.56466256,  0.57466256,\n",
       "         0.58466256]),\n",
       " <a list of 100 Patch objects>)"
      ]
     },
     "execution_count": 35,
     "metadata": {},
     "output_type": "execute_result"
    },
    {
     "data": {
      "image/png": "[encoded data removed]",
      "text/plain": [
       "<Figure size 432x288 with 1 Axes>"
      ]
     },
     "metadata": {
      "needs_background": "light"
     },
     "output_type": "display_data"
    }
   ],
   "source": [
    "plt.hist(prim,bins = 100)"
   ]
  },
  {
   "cell_type": "code",
   "execution_count": 36,
   "metadata": {
    "ExecuteTime": {
     "end_time": "2019-08-27T19:15:22.716012Z",
     "start_time": "2019-08-27T19:15:22.259348Z"
    }
   },
   "outputs": [
    {
     "data": {
      "text/plain": [
       "(array([7., 6., 5., 5., 3., 4., 3., 1., 5., 2., 2., 3., 3., 2., 0., 1., 1.,\n",
       "        3., 0., 0., 3., 3., 2., 1., 1., 1., 1., 0., 1., 1., 3., 2., 1., 2.,\n",
       "        3., 0., 1., 1., 2., 0., 1., 0., 1., 1., 0., 0., 0., 0., 0., 2., 1.,\n",
       "        0., 0., 0., 3., 2., 0., 0., 0., 0., 0., 0., 0., 0., 0., 1., 0., 0.,\n",
       "        0., 0., 0., 0., 0., 0., 0., 0., 0., 0., 0., 0., 0., 0., 0., 0., 0.,\n",
       "        1., 1., 0., 0., 0., 0., 0., 0., 0., 0., 0., 0., 0., 0., 1.]),\n",
       " array([0.00325556, 0.00858863, 0.0139217 , 0.01925476, 0.02458783,\n",
       "        0.02992089, 0.03525396, 0.04058703, 0.04592009, 0.05125316,\n",
       "        0.05658623, 0.06191929, 0.06725236, 0.07258542, 0.07791849,\n",
       "        0.08325156, 0.08858462, 0.09391769, 0.09925075, 0.10458382,\n",
       "        0.10991689, 0.11524995, 0.12058302, 0.12591608, 0.13124915,\n",
       "        0.13658222, 0.14191528, 0.14724835, 0.15258142, 0.15791448,\n",
       "        0.16324755, 0.16858061, 0.17391368, 0.17924675, 0.18457981,\n",
       "        0.18991288, 0.19524594, 0.20057901, 0.20591208, 0.21124514,\n",
       "        0.21657821, 0.22191128, 0.22724434, 0.23257741, 0.23791047,\n",
       "        0.24324354, 0.24857661, 0.25390967, 0.25924274, 0.2645758 ,\n",
       "        0.26990887, 0.27524194, 0.280575  , 0.28590807, 0.29124113,\n",
       "        0.2965742 , 0.30190727, 0.30724033, 0.3125734 , 0.31790647,\n",
       "        0.32323953, 0.3285726 , 0.33390566, 0.33923873, 0.3445718 ,\n",
       "        0.34990486, 0.35523793, 0.36057099, 0.36590406, 0.37123713,\n",
       "        0.37657019, 0.38190326, 0.38723632, 0.39256939, 0.39790246,\n",
       "        0.40323552, 0.40856859, 0.41390166, 0.41923472, 0.42456779,\n",
       "        0.42990085, 0.43523392, 0.44056699, 0.44590005, 0.45123312,\n",
       "        0.45656618, 0.46189925, 0.46723232, 0.47256538, 0.47789845,\n",
       "        0.48323152, 0.48856458, 0.49389765, 0.49923071, 0.50456378,\n",
       "        0.50989685, 0.51522991, 0.52056298, 0.52589604, 0.53122911,\n",
       "        0.53656218]),\n",
       " <a list of 100 Patch objects>)"
      ]
     },
     "execution_count": 36,
     "metadata": {},
     "output_type": "execute_result"
    },
    {
     "data": {
      "image/png": "[encoded data removed]",
      "text/plain": [
       "<Figure size 432x288 with 1 Axes>"
      ]
     },
     "metadata": {
      "needs_background": "light"
     },
     "output_type": "display_data"
    }
   ],
   "source": [
    "plt.hist(sec, bins = 100)"
   ]
  },
  {
   "cell_type": "markdown",
   "metadata": {},
   "source": [
    "How are the two distributions different?"
   ]
  },
  {
   "cell_type": "code",
   "execution_count": 8,
   "metadata": {
    "ExecuteTime": {
     "end_time": "2019-08-02T06:07:55.068339Z",
     "start_time": "2019-08-02T06:07:55.065924Z"
    }
   },
   "outputs": [],
   "source": [
    "# no variation can be see when size =1"
   ]
  },
  {
   "cell_type": "markdown",
   "metadata": {},
   "source": [
    "## Exponential Distribution of Real Data\n",
    "\n",
    "Suppose that the amount of time one spends in a bank is exponentially distributed with mean as 10 minutes (i.e. λ = 1/10). What is the probability that a customer will spend less than fifteen minutes in the bank? \n",
    "\n",
    "Write a code in python to solve this problem"
   ]
  },
  {
   "cell_type": "code",
   "execution_count": 37,
   "metadata": {
    "ExecuteTime": {
     "end_time": "2019-08-27T19:18:31.318654Z",
     "start_time": "2019-08-27T19:18:31.310250Z"
    }
   },
   "outputs": [
    {
     "name": "stdout",
     "output_type": "stream",
     "text": [
      "0.9999996619256516\n"
     ]
    }
   ],
   "source": [
    "# Hint: This is same as saying P(x<15)\n",
    "from scipy.stats import expon\n",
    "\n",
    "\n",
    "print(expon(0.1).cdf(15))"
   ]
  },
  {
   "cell_type": "markdown",
   "metadata": {},
   "source": [
    "What is the probability that the customer will spend more than 15 minutes"
   ]
  },
  {
   "cell_type": "code",
   "execution_count": null,
   "metadata": {},
   "outputs": [],
   "source": []
  },
  {
   "cell_type": "code",
   "execution_count": null,
   "metadata": {},
   "outputs": [],
   "source": []
  }
 ],
 "metadata": {
  "kernelspec": {
   "display_name": "Python 3",
   "language": "python",
   "name": "python3"
  },
  "language_info": {
   "codemirror_mode": {
    "name": "ipython",
    "version": 3
   },
   "file_extension": ".py",
   "mimetype": "text/x-python",
   "name": "python",
   "nbconvert_exporter": "python",
   "pygments_lexer": "ipython3",
   "version": "3.6.8"
  },
  "toc": {
   "base_numbering": 1,
   "nav_menu": {},
   "number_sections": true,
   "sideBar": true,
   "skip_h1_title": false,
   "title_cell": "Table of Contents",
   "title_sidebar": "Contents",
   "toc_cell": false,
   "toc_position": {},
   "toc_section_display": true,
   "toc_window_display": false
  },
  "varInspector": {
   "cols": {
    "lenName": 16,
    "lenType": 16,
    "lenVar": 40
   },
   "kernels_config": {
    "python": {
     "delete_cmd_postfix": "",
     "delete_cmd_prefix": "del ",
     "library": "var_list.py",
     "varRefreshCmd": "print(var_dic_list())"
    },
    "r": {
     "delete_cmd_postfix": ") ",
     "delete_cmd_prefix": "rm(",
     "library": "var_list.r",
     "varRefreshCmd": "cat(var_dic_list()) "
    }
   },
   "types_to_exclude": [
    "module",
    "function",
    "builtin_function_or_method",
    "instance",
    "_Feature"
   ],
   "window_display": false
  }
 },
 "nbformat": 4,
 "nbformat_minor": 2
}
